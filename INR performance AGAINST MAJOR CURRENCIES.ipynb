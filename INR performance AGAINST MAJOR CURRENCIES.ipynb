{
 "cells": [
  {
   "cell_type": "code",
   "execution_count": 1,
   "id": "be5db479",
   "metadata": {},
   "outputs": [
    {
     "name": "stdout",
     "output_type": "stream",
     "text": [
      "[*********************100%***********************]  10 of 10 completed\n"
     ]
    }
   ],
   "source": [
    "import yfinance as yf\n",
    "import pandas as pd\n",
    "\n",
    "tickers = ['EURINR=X', 'AEDINR=X', 'GBPINR=X', 'JPYINR=X', 'CHFINR=X', 'CADINR=X', 'AUDINR=X', 'USDINR=X', 'NZDINR=X', 'ZARINR=X']\n",
    "\n",
    "# Fetch the data from Yahoo Finance\n",
    "data = yf.download(tickers, start=\"2022-02-03\", end=\"2025-02-03\")"
   ]
  },
  {
   "cell_type": "code",
   "execution_count": 2,
   "id": "b8897718",
   "metadata": {},
   "outputs": [
    {
     "name": "stdout",
     "output_type": "stream",
     "text": [
      "           MTD (%)    YTD (%)  Last 2 Years (%)  Last 3 Years (%)   LTP (INR)\n",
      "AEDINR=X  1.027085  15.506880          4.493034         13.831739   23.589453\n",
      "AUDINR=X  1.645999   0.990658         -3.522330         -3.720086   53.754345\n",
      "CADINR=X  0.456075   1.292103         -1.939980          0.107134   59.680096\n",
      "CHFINR=X  0.547296  16.898485          9.032457         15.459188   95.083511\n",
      "EURINR=X  1.614855   6.457029          2.918617          6.406648   89.919998\n",
      "GBPINR=X  0.233088   6.040410          8.644065          7.231522  107.607109\n",
      "JPYINR=X  3.156893 -14.128894         -6.327664        -14.765227    0.561190\n",
      "NZDINR=X  1.951087  -1.365036         -4.517473         -6.578784   48.743862\n",
      "USDINR=X  1.004020  15.803556          4.497219         13.807202   86.647003\n",
      "ZARINR=X  1.987612  -4.543932          3.508974         -8.185328    4.659502\n"
     ]
    }
   ],
   "source": [
    "if len(data) >= 3:\n",
    "    mtd = (data['Adj Close'].iloc[-1] / data['Adj Close'].iloc[-22] - 1) * 100  # Last 22 trading days\n",
    "    ytd = (data['Adj Close'].iloc[-1] / data['Adj Close'].iloc[0] - 1) * 100  # From start of the year\n",
    "    \n",
    "    last_2_years = (data['Adj Close'].iloc[-1] / data['Adj Close'].iloc[-int(252*2)] - 1) * 100  # Approx 252 trading days per year\n",
    "    last_3_years = (data['Adj Close'].iloc[-1] / data['Adj Close'].iloc[-int(252*3)] - 1) * 100  # Approx 252 trading days per year\n",
    "    \n",
    "    ltp = data['Adj Close'].iloc[-1]\n",
    "\n",
    "    performance_df = pd.DataFrame({\n",
    "        'MTD (%)': mtd,\n",
    "        'YTD (%)': ytd,\n",
    "        'Last 2 Years (%)': last_2_years,\n",
    "        'Last 3 Years (%)': last_3_years,\n",
    "        'LTP (INR)': ltp\n",
    "    })\n",
    "\n",
    "    # Final\n",
    "    print(performance_df)\n",
    "else:\n",
    "    print(\"Not enough data to calculate 2 and 3 years performance.\")\n"
   ]
  }
 ],
 "metadata": {
  "extensions": {
   "jupyter_dashboards": {
    "activeView": "default_view",
    "version": 1,
    "views": {
     "default_view": {
      "cellMargin": 10,
      "defaultCellHeight": 40,
      "maxColumns": 12,
      "name": "active_view",
      "type": "grid"
     }
    }
   }
  },
  "kernelspec": {
   "display_name": "Python 3 (ipykernel)",
   "language": "python",
   "name": "python3"
  },
  "language_info": {
   "codemirror_mode": {
    "name": "ipython",
    "version": 3
   },
   "file_extension": ".py",
   "mimetype": "text/x-python",
   "name": "python",
   "nbconvert_exporter": "python",
   "pygments_lexer": "ipython3",
   "version": "3.9.7"
  }
 },
 "nbformat": 4,
 "nbformat_minor": 5
}
